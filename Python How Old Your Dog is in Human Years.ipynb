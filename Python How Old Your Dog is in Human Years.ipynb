{
 "cells": [
  {
   "cell_type": "markdown",
   "metadata": {},
   "source": [
    "# “How Old is Your Dog in Human Years?” Calculator\n",
    "In this assignment, you will write a program that calculates a dog’s age in human years. The program will prompt the user for an age in dog years and calculate that age in human years. Allow for int or float values, but check the user’s input to make sure it's valid -- it should be numeric and positive. Otherwise, let the user know their input is not valid.\n",
    "\n",
    "You can use the following rules to approximately convert a medium-sized dog’s age to human years:\n",
    "\n",
    "For the first year, one dog year is equal to 15 human years\n",
    "For the first 2 years, each dog year is equal to 12 human years\n",
    "For the first 3 years, each dog year is equal to 9.3 human years\n",
    "For the first 4 years, each dog year is equal to 8 human years\n",
    "For the first 5 years, each dog year is equal to 7.2 human years\n",
    "After that, each dog year is equal to 7 human years. (Note: This means the first 5 dog years are equal to 36 human years (5 * 7.2) and the remaining dog years are equal to 7 human years each.)\n",
    "Print the result in the following format, substituting for dog_age and human_age: \"The given dog age dog_age is human_age in human years.\" Round the result to 2 decimal places. Note: If there is a 0 in the hundredths place, you can drop it, e.g. 24.00 can be displayed as 24.0."
   ]
  },
  {
   "cell_type": "markdown",
   "metadata": {},
   "source": [
    "## A note on defining functions\n",
    "\n",
    "Defining a function refers to the act of creating a function using the `def` keyword and giving it a name, as well as any arguments that need to be available in the body of the function. We'll see more about functions later in the course, but below the `def calculator():` line is the beginning of a function declaration, with all of the indented lines below it as the body of the function.\n",
    "\n",
    "Similar to the way we name variables, a function may not contain spaces or special characters, with the exception of the underscore (`_`). Below are some examples of functions being defined.\n",
    "\n",
    "```python\n",
    "def say_hello():\n",
    "    print(\"Hello!\")\n",
    "```\n",
    "The above function named `say_hello` prints the word `\"Hello!\"`. It takes in no arguments - that is, there is nothing being passed into the function inside of the parentheses that would be available to the body of the function. Let's look an another example that does contain an argument:\n",
    "\n",
    "```python\n",
    "def say_something_specific(thing_to_say):\n",
    "    print(thing_to_say)\n",
    "```\n",
    "Here we have a function named `say_something_specific` with an argument `thing_to_say`. The argument could be anything (whenever we decide to call this function, we'll pass in whatever we'd like at the time we call it) and will be printed out similar to the way `\"Hello!\"` was printed in the first function.\n",
    "\n",
    "```python\n",
    "def number_sum(num1, num2):\n",
    "    sum = num1 + num2\n",
    "    print(\"Sum is\", sum)\n",
    "    return sum\n",
    "```\n",
    "This function, `number_sum`, takes in two arguments separated by commas, named `num1` and `num2`. Arguments are essentially variables that are accessible throughout the function body. In this case, a variable `sum` is created with a value equal to the sum of our two arguments, `num1` and `num2`. We then print out `\"Sum is <sum>\"`, then finally **return** the sum. The return allows us to get a value out of the function after it's done executing. Whatever follows the `return` keyword will be sent back to the location in your code where the function was called. Let's take a look at one more example of how a function could be defined, then used in code. We'll use the function that we just created, `number_sum`.\n",
    "\n",
    "```python\n",
    "# ...\n",
    "\n",
    "a = 5\n",
    "b = 3\n",
    "sum_a_b = number_sum(a, b) \n",
    "# At this point in the code, number_sum returned a (5) + b (3) = 8, so the value of\n",
    "# sum_a_b = 8\n",
    "\n",
    "sum_x_y = number_sum(10, 20)\n",
    "# After the above line is executed, sum_x_y will be equal to 30\n",
    "```"
   ]
  },
  {
   "cell_type": "code",
   "execution_count": 1,
   "metadata": {},
   "outputs": [],
   "source": [
    "import traceback\n",
    "\n",
    "def calculator():\n",
    "    \n",
    "    # Get dog age\n",
    "    age = input(\"Input dog years: \")\n",
    "\n",
    "    try:\n",
    "        # Cast to float\n",
    "        d_age = str(age)\n",
    "\n",
    "        # If user enters negative number, print message\n",
    "        # Otherwise, calculate dog's age in human years\n",
    "    \n",
    "        # your code here\n",
    "        \n",
    "\n",
    "    except:\n",
    "        print(age, \"is an invalid age.\")\n",
    "        print(traceback.format_exc())\n",
    "    \n",
    "calculator() # This line calls the calculator function"
   ]
  },
  {
   "cell_type": "code",
   "execution_count": 2,
   "metadata": {},
   "outputs": [
    {
     "name": "stdout",
     "output_type": "stream",
     "text": [
      "The given dog age 12.0 is 85.0 in human years.\n"
     ]
    }
   ],
   "source": [
    "import traceback\n",
    "\n",
    "def calculator():\n",
    "    \n",
    "    # Get dog age\n",
    "    age = input(\"Input dog years: \")\n",
    "\n",
    "    try:\n",
    "        # Cast to float\n",
    "        d_age = float(age)\n",
    "\n",
    "        # If user enters negative number, print message\n",
    "        # Otherwise, calculate dog's age in human years\n",
    "    \n",
    "        if d_age<0 :\n",
    "            print(\"negative\")\n",
    "        else:\n",
    "            if(d_age<=1):\n",
    "                human_age=float(d_age*15)\n",
    "                human_age=round(human_age,2)\n",
    "                print( \"The given dog age {} is {} in human years.\".format(d_age,human_age))\n",
    "            elif(d_age<=2):\n",
    "                human_age=float(d_age*12)\n",
    "                human_age=round(human_age,2)\n",
    "                print( \"The given dog age {} is {} in human years.\".format(d_age,human_age))\n",
    "            elif(d_age<=3):\n",
    "                human_age=float(d_age*9.3)\n",
    "                human_age=round(human_age,2)\n",
    "                print( \"The given dog age {} is {} in human years.\".format(d_age,human_age))\n",
    "            elif(d_age<=4):\n",
    "                human_age=float(d_age*8)\n",
    "                human_age=round(human_age,2)\n",
    "                print( \"The given dog age {} is {} in human years.\".format(d_age,human_age))\n",
    "            elif(d_age<=5):\n",
    "                human_age=float(d_age*7.2)\n",
    "                human_age=round(human_age,2)\n",
    "                print( \"The given dog age {} is {} in human years.\".format(d_age,human_age))\n",
    "            else :\n",
    "                human_age=float(36+(d_age-5)*7)\n",
    "                human_age=round(human_age,2)\n",
    "                print( \"The given dog age {} is {} in human years.\".format(d_age,human_age))\n",
    "        \n",
    "\n",
    "    except:\n",
    "        print(age, \"is an invalid age.\")\n",
    "        print(traceback.format_exc())\n",
    "    \n",
    "calculator()"
   ]
  },
  {
   "cell_type": "code",
   "execution_count": null,
   "metadata": {},
   "outputs": [],
   "source": []
  }
 ],
 "metadata": {
  "kernelspec": {
   "display_name": "Python 3",
   "language": "python",
   "name": "python3"
  },
  "language_info": {
   "codemirror_mode": {
    "name": "ipython",
    "version": 3
   },
   "file_extension": ".py",
   "mimetype": "text/x-python",
   "name": "python",
   "nbconvert_exporter": "python",
   "pygments_lexer": "ipython3",
   "version": "3.12.0"
  }
 },
 "nbformat": 4,
 "nbformat_minor": 2
}
